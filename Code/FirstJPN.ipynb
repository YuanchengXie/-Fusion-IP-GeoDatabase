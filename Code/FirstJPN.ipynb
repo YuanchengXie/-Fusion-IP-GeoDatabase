{
 "cells": [
  {
   "cell_type": "code",
   "execution_count": 148,
   "id": "43866871-ba85-4a33-9a8c-9fca1c8b2563",
   "metadata": {},
   "outputs": [],
   "source": [
    "import requests\n",
    "import json\n",
    "import re\n",
    "# Use the Zitong + bing interface to query the city\n",
    "def city_lookup2(dic_city, comp_file):\n",
    "    result = {}\n",
    "    f = open(comp_file, 'r')\n",
    "    stand_city = f.read()\n",
    "    f.close()\n",
    "    for i in dic_city.keys():\n",
    "        result[i] = {}\n",
    "        for j in dic_city[i]:\n",
    "            result[i][j] = ''\n",
    "            url = 'https://zi.tools/api/transliteration/search/' + j\n",
    "            try:\n",
    "                res = requests.get(url=url).text\n",
    "                res = json.loads(res)\n",
    "                aim = res['result']\n",
    "                for k in aim:\n",
    "                    if re.search(j, k[0][0], re.IGNORECASE):\n",
    "                        if k[0][2] in stand_city:\n",
    "                            result[i][j] = k[0][2]\n",
    "                            break\n",
    "                mix = j\n",
    "                if result[i][j] != '':\n",
    "                    mix = result[i][j]\n",
    "            except:\n",
    "                mix = j\n",
    "            url = 'https://cn.bing.com/api/v6/Places/AutoSuggest?q=' + mix.replace(\"'\", '') + '&appid=D41D8CD98F00B204E9800998ECF8427E1FBE79C2&structuredaddress=true&setmkt=zh-CN&setlang=zh-CN'\n",
    "            try:\n",
    "                content = json.loads(requests.get(url = url).text)\n",
    "            except:\n",
    "                continue\n",
    "            if 'value' not in content:\n",
    "                continue\n",
    "            for res in content['value']:\n",
    "                if 'address' not in res or 'addressRegion' not in res['address']:\n",
    "                    continue\n",
    "                if res['address']['addressRegion'] not in i and i not in res['address']['addressRegion']:\\\n",
    "                    continue\n",
    "                if res['_type'] == 'Place':\n",
    "                    if 'addressSubregion' not in res['address']:\n",
    "                        result[i][j] = res['name']\n",
    "                        break\n",
    "                    else:\n",
    "                        result[i][j] = res['address']['addressSubregion']\n",
    "                        break\n",
    "                else:\n",
    "                    if 'addressSubregion' not in res['address']:\n",
    "                        continue\n",
    "                    else:\n",
    "                        result[i][j] = res['address']['addressSubregion']\n",
    "                        break\n",
    "    return result"
   ]
  },
  {
   "cell_type": "code",
   "execution_count": 109,
   "id": "2b6416ef-3969-4e08-984b-9c1c70d417e4",
   "metadata": {},
   "outputs": [],
   "source": [
    "import requests\n",
    "import json\n",
    "# Use the interface of bing map to query Chinese cities\n",
    "def city_lookup(dic_city):\n",
    "    result = {}\n",
    "    for i in dic_city.keys():\n",
    "        result[i] = {}\n",
    "        cities = dic_city[i]\n",
    "        for aim in cities:\n",
    "            url = 'https://cn.bing.com/api/v6/Places/AutoSuggest?q=' + aim.replace(\"'\", '') + '&appid=D41D8CD98F00B204E9800998ECF8427E1FBE79C2&structuredaddress=true&setmkt=zh-CN&setlang=zh-CN'\n",
    "            content = json.loads(requests.get(url = url).text)\n",
    "            result[i][aim] = ''\n",
    "            if 'value' not in content:\n",
    "                continue\n",
    "            for res in content['value']:\n",
    "                if 'address' not in res or 'addressRegion' not in res['address']:\n",
    "                    continue\n",
    "                if res['address']['addressRegion'] not in i and i not in res['address']['addressRegion']:\\\n",
    "                    continue\n",
    "                if res['_type'] == 'Place':\n",
    "                    if 'addressSubregion' not in res['address']:\n",
    "                        result[i][aim] = res['name']\n",
    "                        break\n",
    "                    else:\n",
    "                        result[i][aim] = res['address']['addressSubregion']\n",
    "                        break\n",
    "                else:\n",
    "                    if 'addressSubregion' not in res['address']:\n",
    "                        continue\n",
    "                    else:\n",
    "                        result[i][aim] = res['address']['addressSubregion']\n",
    "                        break\n",
    "    return result"
   ]
  }
 ],
 "metadata": {
  "kernelspec": {
   "display_name": "Python 3 (ipykernel)",
   "language": "python",
   "name": "python3"
  },
  "language_info": {
   "codemirror_mode": {
    "name": "ipython",
    "version": 3
   },
   "file_extension": ".py",
   "mimetype": "text/x-python",
   "name": "python",
   "nbconvert_exporter": "python",
   "pygments_lexer": "ipython3",
   "version": "3.8.10"
  },
  "pycharm": {
   "stem_cell": {
    "cell_type": "raw",
    "source": [],
    "metadata": {
     "collapsed": false
    }
   }
  }
 },
 "nbformat": 4,
 "nbformat_minor": 5
}